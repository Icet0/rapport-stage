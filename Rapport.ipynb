{
 "cells": [
  {
   "cell_type": "markdown",
   "metadata": {},
   "source": [
    "<center><h1>Rapport de Stage</h1><br/><h2>Analyse de donnée sur de l'Open Data</h2><br/><h3>Rédigé et réaliser par Paul Monimeau</h3></center>\n",
    "<br/><br/><br/>\n",
    "<h4>Sous la tutelle de Mr F.Flouvat (UNC) et de Mr A.SALES (OPT)<h4>\n",
    "\n",
    "------------------------------ \n",
    "\n",
    "---------------------------------"
   ]
  },
  {
   "cell_type": "markdown",
   "metadata": {},
   "source": [
    "![](Images/prezzz_paul.png)  \n",
    "\n",
    "----------\n",
    "\n",
    "\n",
    " \n",
    "\n",
    "\n",
    "\n",
    "\n",
    "\n",
    "\n",
    "\n",
    "\n",
    "\n",
    "\n",
    "\n",
    "\n",
    "\n"
   ]
  },
  {
   "cell_type": "markdown",
   "metadata": {},
   "source": [
    "# INDEX\n",
    "\n",
    "1.  [Sujet du stage](#Sujet-du-stage)\n",
    "2.  [Apprentissage avec OpenClassRooms et autres](#Apprentissage-avec-OpenClassRooms-et-autres)\n",
    "3.  [Première analyses des données de Scal’Air](#Première-analyses-des-données-de-Scal'Air)\n",
    "8.  [Un tout nouvel horizon e de nouvelles données](#Un-tout-nouvel-horizon-et-de-nouvelles-données)\n",
    "  1. [L'utilité possible](#L'utilité-possible)\n",
    "  1. [Récupération de la donnée](#Récupération-de-la-donnée)\n",
    "  1. [Analyse de la donnée](#Analyse-de-la-donnée)\n",
    "  1. [Algorithme de prédiction](#Algorithme-de-prédiction)\n",
    "  1. [Création de l'API](#Création-de-l'API)\n",
    "  1. [Création d'une interface Web](#Création-d'une-interface-Web)\n",
    "  1. [Création d'une application Mobile](#Création-d'une-application-Mobile)\n",
    "9.  [Conclusion](#Conclusion)\n",
    "10. [Annexes](#ANNEXES)\n",
    "\n",
    "\n",
    "-------------"
   ]
  },
  {
   "cell_type": "markdown",
   "metadata": {
    "slideshow": {
     "slide_type": "slide"
    }
   },
   "source": [
    "# PRESENTATION\n",
    "\n",
    "## Sujet du stage\n",
    "\n",
    "__L'objectif initial du stage est d'analyser des données de Scal'Air NC, obtenues grâce à une API développée qui vient scrapper le site web de Scal'Air. Le but du stage étant de produire un \"data story telling\" ainsi qu'un modèle de prédiction pouvant possiblement être exporté sur une API. Ce schéma de travail pourrait quant à lui servir de base pour toutes autre approches d'analyses de données sur de l'open Data lors d'innovations à l'OPT.__\n",
    "  \n",
    "[-Lien du Sujet du stage](https://sway.office.com/pQ4PEOhog4vQOe2l?ref=email)  \n",
    "\n",
    "[-Lien de la Présentation reveal.js](https://slides.com/monimpaul/deck-4c5e0d/fullscreen)  \n",
    "\n",
    "[-Lien du Rapport jupyterNoteBook sur Git](https://github.com/Icet0/Rapport/blob/master/Rapport.ipynb)\n",
    "\n",
    "[-Lien du Rapport sur GitPages](https://icet0.github.io/rapport-stage/)"
   ]
  },
  {
   "cell_type": "markdown",
   "metadata": {},
   "source": [
    "## Apprentissage avec OpenClassRooms et autres\n",
    "\n",
    "[Toute cette partie est en annexe](#Apprentissage-avec-OpenClassRooms)"
   ]
  },
  {
   "cell_type": "markdown",
   "metadata": {},
   "source": [
    "## Première analyses des données de Scal'Air \n",
    "\n",
    "Ces données contiennent l'indice de qualité de l'air pour certains quartiers de Nouméa et à des dates données. Cet indice est calculé au préalable par Scal'Air en fonction de la quantité des différentes molécules qui composent l'air. Cet indice est appelé [indice ATMO](https://www.futura-sciences.com/planete/questions-reponses/pollution-quest-ce-indice-atmo-4099/)\n",
    "  \n"
   ]
  },
  {
   "cell_type": "markdown",
   "metadata": {},
   "source": [
    "__Un exemple du jeu de données :__   \n",
    "On voit ici un DataFrame crée par python.\n"
   ]
  },
  {
   "cell_type": "markdown",
   "metadata": {},
   "source": [
    "![](Images/tab1.png)"
   ]
  },
  {
   "cell_type": "markdown",
   "metadata": {},
   "source": [
    "Les données de Scal'Air nous ont permises d'apprendre la méthodologie pour arriver à la publication d'une API prédictive. \n",
    "\n",
    "![](Images/optPrez.png)"
   ]
  },
  {
   "cell_type": "markdown",
   "metadata": {},
   "source": [
    "## Un tout nouvel horizon et de nouvelles données\n",
    "\n",
    "Après cet entraînement sur les données de Scal'Air et un processus bien rodé, nous pouvons maintenant s'attaquer à un exemple possiblement utile à l'OPT, le temps d'attente dans les Agences OPT.\n",
    "Cette donnée est récupérée grâce à un script python qui via un cron tourne toutes les 5 min et va récupérer les données grâce à une API disponible sur le site de l'OPT.\n",
    "Après un petit tri et un gros nettoyage, les données sont stockées sur un csv qui ne cesse de grossir.\n",
    "\n",
    "### L'utilité possible\n",
    "\n",
    "Ce que l'on peut espérer de ces analyses, c'est qu'on puisse observer une régularité du temps d'attente en fonction des horaires, et du nombre de guichet ouvert, et de l'agence. Ces informations pourraient être utiles pour une réorganisation des Agences, ou bien même pour le client qui voudrait prédire, ou avoir une idée du temps à attendre pour aller déposer ou récupérer son colis/courrier/etc..."
   ]
  },
  {
   "cell_type": "markdown",
   "metadata": {
    "collapsed": true
   },
   "source": [
    "### Récupération de la donnée\n",
    "\n",
    "Pour récupérer cette donnée sur les temps d'attentes, il nous a fallut récupérer l'endpoint d'une API sur le site de l'opt, qui permet d'afficher en direct le temps d'attente dans les agences. Une fois cet endpoint connu, il nous a juste fallut l'exploiter en python, en faissant une requête http sur cet endpoint. Puis nous avons du nettoyer le résultat pour qu'il ne nous reste plus que ce que l'on voulait. [Code en annexe](#Récupération-de-la-donnée-du-temps-d'attente)   \n",
    "Autrement dit : \n",
    "\n",
    "\n"
   ]
  },
  {
   "cell_type": "markdown",
   "metadata": {},
   "source": [
    "![](Images/20.png)\n"
   ]
  },
  {
   "cell_type": "markdown",
   "metadata": {},
   "source": [
    "Ce script python est alors lancé, grâce à un crontab, toutes les 5 minutes. Ce qui nous procure pas mal de données."
   ]
  },
  {
   "cell_type": "markdown",
   "metadata": {
    "collapsed": true
   },
   "source": [
    "### Analyse de la donnée\n",
    "#### Netoyage\n",
    "\n",
    "Une fois notre csv prêt à l'emploi, nous avons commencé à retravailler cette donnée en python et à afficher les premiers graphiques, le principe de nettoyage et d'amélioration de la donnée est identique aux méthodes utilisées pour le jeu de donnée Scal'Air (changement des types/suppréssion de la donnée inutilisable/etc).\n",
    "A une chose près, dans ces données la, nous avons remarqué une anomalie qui revenait assez souvent.\n",
    "Le problème venait directement de la borde Esirius ou de l'agence elle même.\n",
    "En effet, de temps en temps, le temps d'attente moyen et maximum ne cessait d'augmenter et atteignait des fois des sommes folles (+7h). Nous avons donc pris la décision de supprimer toutes les lignes avec un temps d'attente moyen de plus de 2h ainsi que toutes les lignes précédentes pour la même agence et pour le même jour jusqu'à ce que l'on tombe sur un temps d'attente plus élevé."
   ]
  },
  {
   "cell_type": "markdown",
   "metadata": {
    "collapsed": true
   },
   "source": [
    "![](Images/gimp.png)"
   ]
  },
  {
   "cell_type": "markdown",
   "metadata": {
    "collapsed": true
   },
   "source": [
    "#### Représentations graphiques\n",
    "\n",
    "Notre premier graphique a était un heatmap représentant le nombre de seconde d'attente moyenne pour chaque agences et chaque horaires. \n",
    "\n",
    "[heatmap en annexe](#Heatmap-OPT)\n",
    "\n"
   ]
  },
  {
   "cell_type": "markdown",
   "metadata": {},
   "source": [
    "Bien entendu toutes ces moyennes sont plutôt bien représentative, mais tout de même à prendre à la légère et observer la médiane ainsi que l'écart type.\n",
    "Grâce à ce schéma, on observe très clairement quelles sont les agences les plus visitées et sur quels créneaux horaires.\n",
    "Cela nous permet de voir aussi quelles agences sont ouvertes au publique et celles qui ne le sont pas.\n",
    "A contrario, la médiane nous montre aussi qu'à certaines horaires, il peut y avoir beaucoup d'attente, comme aucune attente : par exemple MAGENTA A 15H. Mais la médiane nous montre aussi que nos données ne sont pas faussé par de faux résultats."
   ]
  },
  {
   "cell_type": "markdown",
   "metadata": {
    "collapsed": true
   },
   "source": [
    "Ce schéma suivant nous permet d'observer le temps d'attente moyen en seconde suivant les agences et le jour de la semaine. On y voit un temps d'attente plus long le lundi et mardi pour l'agence de magenta par exemple.\n"
   ]
  },
  {
   "cell_type": "markdown",
   "metadata": {
    "collapsed": true
   },
   "source": [
    "Mis à part ces heatmaps, des graphiques 'camembert' ont étaient utilisés pour visualiser la donnée. Pour chaque agence un graphique, représentant en moyenne le nombre de secondes (en survol, sinon heure:minutes:secondes) d'attente pour chaque horaires.\n"
   ]
  },
  {
   "cell_type": "markdown",
   "metadata": {},
   "source": [
    "![](Images/piechartMagenta.png)"
   ]
  },
  {
   "cell_type": "markdown",
   "metadata": {
    "collapsed": true
   },
   "source": [
    "### Algorithme de prédiction\n",
    "\n",
    "\n",
    "#### Premier model de prédiction avec Orange\n",
    "\n",
    "Orange est un logiciel fournit avec la suite Anaconda3 qui permet de créer facilement des modèles de prédiction et de visualiser des données. C'est un logiciel utilisable par quiconque, même ceux qui ne savent pas coder.\n",
    "\n",
    "![](Images/Capture10.png)\n",
    "\n",
    "#### Model Tree\n",
    "\n",
    "Premièrement avant d'attaquer quoi que ce soit, il faut être bien sûr de savoir faire la différence entre modèle de régression et modèle de classification.\n",
    "Tout d'abord un modèle statistique est un algorithme qui va pouvoir prendre en entrée un jeu de donnée avec une cible ( qui est une variable du jeu de donnée ) et qui va pouvoir s’entraîner sur d'autre donnée afin de pouvoir à l'avenir prédire ou classifier le plus précisément possible cette cible avec des paramètres donnés.\n",
    "\n",
    "Les problèmes de classement consistent à prédire les classes ou étiquettes d'un ensemble de données à partir d'une base d'apprentissage pré-étiquetée.\n",
    "\n",
    "Pour la régression, il n'y a pas d'ambiguïté : il s'agit de prédire des valeurs numériques continues pour un ensemble de données à partir d'une base d'apprentissage.\n",
    "\n",
    "Le modèle Tree est un modèle de classification, l’objectif de notre arbre de décision est donc de classer les temps d'attente en 3 classes en fonction des minutes. A chaque étape, l’algorithme va chercher le critère permettant de séparer au mieux ces 2 populations. Il existe plusieurs critères de séparation, ici l'heure ainsi que le jour. Dans notre exemple nous allons utiliser l’entropie.\n",
    "\n",
    "On aurait pu ici prendre un modèle de régression ( comme la régression logistique qui est assez précise dans notre cas ) mais, grâce à orange, nous avons pu comparer la précision entre les différents modèles et le modèle \"Tree\" est dans les plus précis, mais surtout il est le plus représentatif, notamment avec la possibilité d'affichers un arbre de prédiction.\n",
    "\n",
    "Comme vu avec le jeu de donnée précédent, il est préférable, premièrement, de tester le validité des modèles de régression et de classification sur Orange. Comme expliqué ci-dessus, cette étape a était faite et couplé à l'essai de plusieurs algorithmes sur Python avec Scikit-Learn, le modèle retenu et le 'RandomForestClassifier'.\n",
    "Avec notre petit jeu de donnée, on arrive à une précision d'environ 0,84."
   ]
  },
  {
   "cell_type": "markdown",
   "metadata": {},
   "source": [
    "![](Images/randomForest.png)"
   ]
  },
  {
   "cell_type": "markdown",
   "metadata": {},
   "source": [
    "Cet algorithme est principalement basé sur celui du 'TreeClassifier' :"
   ]
  },
  {
   "cell_type": "markdown",
   "metadata": {},
   "source": [
    "![](Images/treeExemple.png)"
   ]
  },
  {
   "cell_type": "markdown",
   "metadata": {},
   "source": [
    "#### Pourquoi avoir choisi cet algorithme ?\n",
    "\n",
    "Parce que le modèle 'TreeClassifier' a tendance à sur apprendre et que pour palier à ce problème le modèle RandomForestClassifier a était crée.\n",
    "Il permet de créer plusieurs arbres avec pour moyen de séparation des éléments aléatoires, et il prend ensuite comme résultat, le plus grand nombre d'étiquette identique retourné."
   ]
  },
  {
   "cell_type": "markdown",
   "metadata": {},
   "source": [
    "\n",
    "![](Images/randomForestExemple1.png)\n",
    "\n",
    "![](Images/randomForestExemple2.png)"
   ]
  },
  {
   "cell_type": "markdown",
   "metadata": {
    "collapsed": true
   },
   "source": [
    "Encore une fois ce modèle est exportable et peut être utilisé avec n'importe quel code.\n",
    "Nous allons encore une fois l'utiliser dans une API faite en python."
   ]
  },
  {
   "cell_type": "markdown",
   "metadata": {
    "collapsed": true
   },
   "source": [
    "### Création de l'API \n",
    "\n",
    "Nous reprendrons les même étapes que pour les données de scal'Air, il suffit, grâce à python et la librairie Flask de faire un petit script important le modèle et retournant, suivant les endpoints, le json voulu.\n",
    "Une fois fait, nous reproduirons encore une fois la même méthode, autrement dis, nous publions l'API sur heroku via le CLI d'heroku et un dokerfile.\n",
    "Heroku est une plateforme en ligne (une PAAS) permettant d'héberger gratuitement des API. Pour publier la notre, à l'aide du CLI fournit par heroku sous linux, il nous a juste suffi de Dockeriser notre environnement et de créer un fichier requirement.txt qui indique toutes les dépendances de notre script python.\n",
    "Une fois nos fichiers envoyé sur heroku, et après maintes phases de test, notre api était disponible via une URL publique. Le travail restant était juste de publier ce lien sur Rapide Api et de documenter un peu notre API en y montrant des exemples.\n",
    "\n",
    "Par contre, nous avons mis en place, cette fois ci, un pipeline entre heroku et la repo contenant tous les fichiers pour faire tourner l'API. Ce pipeline permet de ré upload l'API sur heroku si il survient un quelconque changement sur la repo. Ce qui nous permet de mettre continuellement le modèle à jour avec les nouvelles données qui arrivent tous les jours. C'est un déploiement continu.\n",
    "Finalement, cette fois ci, nous n'essayerons pas d'appeler l'API en Java mais en PHP sur un site web."
   ]
  },
  {
   "cell_type": "markdown",
   "metadata": {
    "collapsed": true
   },
   "source": [
    "### Création d'une interface Web\n",
    "\n",
    "Une interface web a était crée pour montrer que l'API est utilisable partout.\n",
    "Ce site web a était créer en PHP/HTML/CSS/JS avec comme framework Bootstrap 4 pour le coté responsive.\n",
    "Ce site web est donc conçus sur un modèle MVC \"from scratch\" et est facilement utilisable sur téléphone.\n",
    "\n",
    "https://optapi2.000webhostapp.com/MDB-Free/index.php  \n",
    "[**(QR code en Annexe)**](#QR-Code-Site-Web)\n",
    "\n"
   ]
  },
  {
   "cell_type": "markdown",
   "metadata": {
    "collapsed": true
   },
   "source": [
    "### Création d'une application Mobile\n",
    "\n",
    "Une application Mobile a était crée dans le même principe que le front Web, avec en petit plus l'affichage de ce que l'on a sur le site Web actuel de l'OPT (les temps d'attentes en direct). \n",
    "[Code sur github](https://github.com/adriens/app-attente-agences)  \n",
    "[___(QR code en Annexe)___](#Télécharger-l'app)\n",
    "\n",
    "Cette application a était développer en Dart et sous le framework google : Flutter.\n",
    "Ce langage permet de compiler le code sous Android et sous IOS sans aucune modification du code. De plus le framework flutter est très suivit et possède un très grand nombre de widget utilisables.\n",
    "Ce langage est un langage objet, il ma donc était assez facile de l'apprendre, sachant déjà coder en Java.\n",
    "Premièrement, l'application comprenait seulement l'affichage 'live' des temps d'attentes.\n",
    "\n",
    "\n",
    "![](Images/Screenshot_2019-12-09-08-25-30-581_com.example.apirequest2.jpg)\n",
    "\n",
    "![](Images/Screenshot_2019-12-09-08-25-49-157_com.example.apirequest.jpg)\n",
    "\n"
   ]
  },
  {
   "cell_type": "markdown",
   "metadata": {
    "collapsed": true
   },
   "source": [
    "Sur le coté gauche on retrouve un code couleur et une icon permettant de voir rapidement si une agence possède beaucoup d'attente ou non.\n",
    "De plus les agences sont triées dans l'ordre croissant suivant leur temps d'attente moyen.\n",
    "\n",
    "Une fois que l'on clic sur une agence, on peut avoir quelques informations supplémentaires, comme les heures d'ouvertures et de fermetures, le lien google map de l'adresse et un bouton 'live ticket'. Ce bouton redirige vers une vidéo youtube qui montre un écran avec les numéros des tickets en cours. L'idée serait, dans un futur proche, de soit avoir directement la donnée du ticket en cours dans l'api OpenData de l'opt, ou un flux vidéos continu qui filmerait les écrans des tickets. Avec ça, il serait possible d'aller chercher son ticket à l'agence et de repartir faire une quelconque course en attendant une notification qui nous dirait que c'est bientôt notre tour par exemple. On pourrait même imaginer qu'il serait possible de récupérer un ticket directement sur l'application.\n",
    "\n",
    "![](Images/Screenshot_2019-12-09-08-26-00-493_com.example.apirequest.jpg)"
   ]
  },
  {
   "cell_type": "markdown",
   "metadata": {
    "collapsed": true
   },
   "source": [
    "Cette application contient aussi une partie 'prévision', reprenant le même principe que celui du site Web.\n",
    "Nous avons 3 'pageView' (3 pages avec une gestion de switch sur les cotés de l'écran pour passer d'une page à l'autre) avec sur chacune un formulaire dédié a la prédiction voulue (Endpoint). Le reste des Screenshots pourra être retrouver en [annexe](#ScreenShots-Application-Mobile).\n",
    "\n",
    "![](Images/app/Screenshot_2019-12-12-07-58-14-672_com.example.apirequest.jpg)"
   ]
  },
  {
   "cell_type": "markdown",
   "metadata": {},
   "source": [
    "## Conclusion\n",
    "\n",
    "\n",
    "Ce stage a été très enrichissant pour moi car il m’a permis de découvrir dans le détail le monde de l'entreprise notament avec la méthode agile Scrum. De plus il m'a permis d'apprendre l'utilisation de nombreuses technologies comme évoqué dans le corps du rapport. Il m'a aussi permis de rencontrer des personnes travaillant dans le dommaines de l'informatique et de la programmation, ce qui m'a apporté une meilleure clairvoyance sur le métier que je voudrais exercer dans un futur proche. Ce stage m'a donc était très important, que ce soit pour la suite de mes études supérieurs ou pour ma future vie professionnelle.\n",
    "Il était question d'appliquer un cheminement d'utilisation de données open source, en passant par l'analyse de données, modèle prédictif, création d'api à l'utilisation de cette dernière dans un programme. Puis le sujet à était approfondi pour passer sur des données liées à l'opt et même sur la création d'un site web ainsi qu'une application mobile. Un cheminement complet accès sur l'utilisation du PAAS et du cloud, et surtout indépendant des structures interne à l'opt. Autrement dit ce stage aurait pu être fait par nimporte qui sur son canapé grâce à ses outils gratuit et cette donnée openSource.\n",
    "Et pour finir, n'oublions pas que ce rapport de stage, qu'il soit sous forme de pdf ou html, a était généré en Latext grâce à du Markdown sous Jupyter NoteBook. Ce qui explique les quelques problèmes d'affichage sous la version pdf, (le htm est beaucoup plus esthétique.\n",
    "\n",
    " \n",
    " -------------------- \n",
    " "
   ]
  },
  {
   "cell_type": "markdown",
   "metadata": {},
   "source": [
    "# ANNEXES\n",
    "\n",
    "## Index annexes\n",
    "\n",
    "1.  [Apprentissage avec OpenClassRooms](#Apprentissage-avec-OpenClassRooms)\n",
    "  1. [Technologies utilisés](#Technologies-utilisés)\n",
    "  1. [Fonctionnement d'OpenClassRooms](#Fonctionnement-d'OpenClassRooms)\n",
    "  1. [Sujets abordés](#Sujets-abordés)\n",
    "2.  [Grapiques, Premières analyses](#Graphiques,-Premières-analyses)\n",
    "3.  [Graphique 3D avec Plotly](#Graphique-3D-avec-Plotly)\n",
    "4.  [Récupération de la donnée du temps d'attente](#Récupération-de-la-donnée-du-temps-d'attente)\n",
    "5.  [Heatmap OPT](#Heatmap-OPT)\n",
    "6.  [QR Code Site Web](#QR-Code-Site-Web)\n",
    "7.  [ScreenShots Application Mobile & QR code](#ScreenShots-Application-Mobile)"
   ]
  },
  {
   "cell_type": "markdown",
   "metadata": {},
   "source": [
    "## Apprentissage avec OpenClassRooms\n",
    "  \n",
    "[lien partie principale](#Apprentissage-avec-OpenClassRooms-et-autres)"
   ]
  },
  {
   "cell_type": "markdown",
   "metadata": {
    "slideshow": {
     "slide_type": "slide"
    }
   },
   "source": [
    "### Technologies utilisés\n",
    "* Anaconda3\n",
    "![anaconda3](Images/anaconda.png)\n",
    "* JupiterNoteBook\n",
    "![jupyterNoteBook](Images/jupyter.png)\n",
    "\n"
   ]
  },
  {
   "cell_type": "markdown",
   "metadata": {
    "slideshow": {
     "slide_type": "subslide"
    }
   },
   "source": [
    "* Python3.7\n",
    "![python](Images/python.png)\n",
    "* GitLab\n",
    "![gitLab](Images/gitLab.png)"
   ]
  },
  {
   "cell_type": "markdown",
   "metadata": {
    "slideshow": {
     "slide_type": "subslide"
    }
   },
   "source": [
    "* GitKraken\n",
    "![gitKraken](Images/gitKraken.png)"
   ]
  },
  {
   "cell_type": "markdown",
   "metadata": {
    "slideshow": {
     "slide_type": "slide"
    }
   },
   "source": [
    "\n",
    "### Fonctionnement d'OpenClassRooms\n",
    "* Le cours est structuré et il est évolutif, et propose même des évaluations pour se perfectionner et ce tester. Malheureusement, même en ayant validé ses évaluations, le certificat de réussite n'est disponible que si le compte est premium. ![certificat](Images/CertificatReussite.png) \n",
    "De plus les cours sont remplis d'exemples :"
   ]
  },
  {
   "cell_type": "markdown",
   "metadata": {
    "slideshow": {
     "slide_type": "subslide"
    }
   },
   "source": [
    "![](Images/captureOpenCR.png)"
   ]
  },
  {
   "cell_type": "markdown",
   "metadata": {
    "slideshow": {
     "slide_type": "subslide"
    }
   },
   "source": [
    "* Les évaluations sont validés par des élèves et pour réussir le cours complet et obtenir le certificat (seulement si le compte est premium ) il faut aussi corriger 3 évaluations d'autres élève. C'est un très bon exercice pour apprendre et pour voir différents moyens d'arriver à un même but."
   ]
  },
  {
   "cell_type": "markdown",
   "metadata": {
    "slideshow": {
     "slide_type": "slide"
    }
   },
   "source": [
    "### Sujets abordés\n",
    "#### Anaconda et Python\n",
    "Le cours [Learn Python Basics for Data Analysis](https://openclassrooms.com/fr/courses/2304731-learn-python-basics-for-data-analysis/6009031-get-started-with-python-and-anaconda) a servi à se remémorer le fonctionnement de base de Python, et surtout à l'utilisation de Jupyter NoteBook.\n",
    "Pour obtenir Jupyter NoteBook, il suffit d'installer l'environnement Anaconda3, qui fournit Python 3.7 et l'Anaconda Navigator ( qui contient Jupyter NoteBook et d'autres applications ).\n",
    "Ce cours nous initie donc au Python avant de toucher à de l'analyse de données.\n"
   ]
  },
  {
   "cell_type": "markdown",
   "metadata": {
    "slideshow": {
     "slide_type": "slide"
    }
   },
   "source": [
    "#### Librarie pour la Data Science\n",
    "Ce cours suivant [Use Python librairies for Data Science](https://openclassrooms.com/fr/courses/1730411-use-python-libraries-for-data-science/5788640-operate-on-numpy-arrays)\n",
    "a quant à lui servi pour l'apprentissage de la mise en valeur des données. Notamment grâce à de nombreuses librairies qui permettent d'afficher de la données dans des tableaux ou dans toutes sortes de graphiques différents et d'appliquer des traitements sur cette dernière.\n",
    "Dans l'ordre du cours les librairies utilisées sont :\n",
    "\n",
    "* Numpy\n",
    "* Matplotlib\n",
    "* Seaborn\n",
    "* Pandas"
   ]
  },
  {
   "cell_type": "markdown",
   "metadata": {
    "slideshow": {
     "slide_type": "subslide"
    }
   },
   "source": [
    "\n",
    "__Numpy__ est une librairie très utilisée en python, elle est la base de toutes les autres cité ci-dessus. Elle permet de créer des tableaux aux dimensions voulues, d'accéder aux cases voulues mais aussi à appliquer toutes sortes de calculs sur les données de ces derniers.\n",
    "\n",
    "![](Images/CaptureNp.png)"
   ]
  },
  {
   "cell_type": "markdown",
   "metadata": {
    "slideshow": {
     "slide_type": "subslide"
    }
   },
   "source": [
    "__Matplotlib__ est une librairie qui sert à générer des graphiques directement depuis python. On peut créer toutes sortes de graphiques statiques, de quoi trouver son bonheur et ce qui explique le mieux possible nos données.\n",
    "![](Images/Matplotlib.png)\n"
   ]
  },
  {
   "cell_type": "markdown",
   "metadata": {
    "slideshow": {
     "slide_type": "subslide"
    }
   },
   "source": [
    "![](Images/Matplotlib2.png)\n"
   ]
  },
  {
   "cell_type": "markdown",
   "metadata": {
    "slideshow": {
     "slide_type": "subslide"
    }
   },
   "source": [
    "![](Images/Matplotlib3.png)"
   ]
  },
  {
   "cell_type": "markdown",
   "metadata": {
    "slideshow": {
     "slide_type": "subslide"
    }
   },
   "source": [
    "Il existe de nombreux types de graphiques possibles, ce site référence les 50 \"meilleurs\" :\n",
    "[Top50 Matplotlib visualizations](https://www.machinelearningplus.com/plots/top-50-matplotlib-visualizations-the-master-plots-python/)"
   ]
  },
  {
   "cell_type": "markdown",
   "metadata": {
    "slideshow": {
     "slide_type": "slide"
    }
   },
   "source": [
    "#### Plus de grapique avec Plotly et HoloViews\n",
    "__[Plotly](https://plot.ly/python/) et [HoloView](http://holoviews.org/)__ sont d'autres librairies python servants à visualiser des données, elles viennent compenser Matplotlib, notamment grâce à la possibilité de créer des graphiques et schémas dynamiques voir même interactifs."
   ]
  },
  {
   "cell_type": "markdown",
   "metadata": {
    "slideshow": {
     "slide_type": "slide"
    }
   },
   "source": [
    "#### Regression linéaire avec Scikit-Learn\n",
    "__Qu'est-ce que la régréssion linéaire ?__\n",
    "\n",
    "La régression linéaire est utilisée en statistiques pour déterminer l'influence d'une ou plusieurs données variables sur une évaluation qui se veut linéaire, en prenant en compte des paramètres aléatoires. \n",
    "Dans le cadre d'un modèle linéaire simple, on peut représenter graphiquement la relation entre x et y à travers un nuage de points."
   ]
  },
  {
   "cell_type": "markdown",
   "metadata": {
    "slideshow": {
     "slide_type": "fragment"
    }
   },
   "source": [
    " L'estimation du modèle linéaire permet de tracer la droite de régression, d'équation $y = \\beta_{0} + \\beta_{1}x$. Le paramètre $\\beta_{0}$ représente l'ordonnée à l'origine et $\\beta_{1}$ le coefficient directeur de la droite. "
   ]
  },
  {
   "cell_type": "markdown",
   "metadata": {
    "slideshow": {
     "slide_type": "fragment"
    }
   },
   "source": [
    "![](Images/regL.png)\n"
   ]
  },
  {
   "cell_type": "markdown",
   "metadata": {
    "slideshow": {
     "slide_type": "subslide"
    }
   },
   "source": [
    "__Scikit-Learn__ Cette librairie permet de classifier des données, d'appliquer des regroupements, des régressions et pleins d'autres méthodes statistique (Machine Learning, etc).\n",
    "```python\n",
    "# Create linear regression object\n",
    "regr = linear_model.LinearRegression()\n",
    "# Make predictions using the testing set\n",
    "diabetes_y_pred = regr.predict(diabetes_X_test)\n",
    "```"
   ]
  },
  {
   "cell_type": "code",
   "execution_count": 4,
   "metadata": {
    "scrolled": true,
    "slideshow": {
     "slide_type": "subslide"
    }
   },
   "outputs": [],
   "source": [
    "import matplotlib.pyplot as plt\n",
    "import numpy as np\n",
    "from sklearn import datasets, linear_model\n",
    "from sklearn.metrics import mean_squared_error, r2_score\n",
    "# Load the diabetes dataset\n",
    "diabetes = datasets.load_diabetes()\n",
    "# Use only one feature\n",
    "diabetes_X = diabetes.data[:, np.newaxis, 2]\n",
    "# Split the data into training/testing sets\n",
    "diabetes_X_train = diabetes_X[:-20]\n",
    "diabetes_X_test = diabetes_X[-20:]\n",
    "# Split the targets into training/testing sets\n",
    "diabetes_y_train = diabetes.target[:-20]\n",
    "diabetes_y_test = diabetes.target[-20:]"
   ]
  },
  {
   "cell_type": "code",
   "execution_count": 5,
   "metadata": {
    "slideshow": {
     "slide_type": "subslide"
    }
   },
   "outputs": [
    {
     "name": "stdout",
     "output_type": "stream",
     "text": [
      "Coefficients: \n",
      " [938.23786125]\n",
      "Mean squared error: 2548.07\n",
      "Variance score: 0.47\n"
     ]
    }
   ],
   "source": [
    "# Create linear regression object\n",
    "regr = linear_model.LinearRegression()\n",
    "# Train the model using the training sets\n",
    "regr.fit(diabetes_X_train, diabetes_y_train)\n",
    "# Make predictions using the testing set\n",
    "diabetes_y_pred = regr.predict(diabetes_X_test)\n",
    "# The coefficients\n",
    "print('Coefficients: \\n', regr.coef_)\n",
    "# The mean squared error\n",
    "print(\"Mean squared error: %.2f\"\n",
    "      % mean_squared_error(diabetes_y_test, diabetes_y_pred))\n",
    "# Explained variance score: 1 is perfect prediction\n",
    "print('Variance score: %.2f' % r2_score(diabetes_y_test, diabetes_y_pred))"
   ]
  },
  {
   "cell_type": "code",
   "execution_count": 6,
   "metadata": {
    "slideshow": {
     "slide_type": "subslide"
    }
   },
   "outputs": [
    {
     "data": {
      "image/png": "[encoded data removed]",
      "text/plain": [
       "<Figure size 432x288 with 1 Axes>"
      ]
     },
     "metadata": {},
     "output_type": "display_data"
    }
   ],
   "source": [
    "# Plot outputs\n",
    "plt.scatter(diabetes_X_test, diabetes_y_test,  color='black')\n",
    "plt.plot(diabetes_X_test, diabetes_y_pred, color='blue', linewidth=3)\n",
    "plt.xticks(())\n",
    "plt.yticks(())\n",
    "plt.show()"
   ]
  },
  {
   "cell_type": "markdown",
   "metadata": {
    "slideshow": {
     "slide_type": "subslide"
    }
   },
   "source": [
    "La régression linéaire, peut plus simplement se faire avec seaborn, qui propose des graphiques avec régression intégré. Une méthode un peu plus simple pour une simple régression linéaire."
   ]
  },
  {
   "cell_type": "code",
   "execution_count": 7,
   "metadata": {
    "scrolled": false,
    "slideshow": {
     "slide_type": "subslide"
    }
   },
   "outputs": [
    {
     "data": {
      "image/png": "[encoded data removed]",
      "text/plain": [
       "<Figure size 504x504 with 3 Axes>"
      ]
     },
     "metadata": {},
     "output_type": "display_data"
    }
   ],
   "source": [
    "import seaborn as sns\n",
    "sns.set(style=\"darkgrid\")\n",
    "tips = sns.load_dataset(\"tips\")\n",
    "g = sns.jointplot(\"total_bill\", \"tip\", data=tips, kind=\"reg\",\n",
    "                  xlim=(0, 60), ylim=(0, 12), color=\"m\", height=7)"
   ]
  },
  {
   "cell_type": "markdown",
   "metadata": {},
   "source": [
    "#### Model de régression linéaire\n",
    "![](Images/modelReg.png)"
   ]
  },
  {
   "cell_type": "markdown",
   "metadata": {},
   "source": [
    "\n",
    "\n",
    "## Récupération de la donnée du temps d'attente  \n",
    "\n",
    "[lien vers la partie principale](#Récupération-de-la-donnée)\n",
    "\n",
    "```python\n",
    "import http.client\n",
    "import pandas as pd\n",
    "import json\n",
    "from pandas.io.json import json_normalize\n",
    "import numpy as np \n",
    "from time import gmtime, strftime\n",
    "import time\n",
    "\n",
    "conn = http.client.HTTPSConnection(\"open-data.opt.nc\")\n",
    "conn.request(\"GET\", \"https://open-data.opt.nc/agences/_search?size=1000&q=pointAdresse:(Noum%C3%A9a)%20OR%20localiteRefloc:(Noum%C3%A9a)%20OR%20designation:(Noum%C3%A9a)\")\n",
    "res = conn.getresponse()\n",
    "data = res.read()\n",
    "resultat = data.decode(\"utf-8\")\n",
    "jsonN = json.loads(resultat)\n",
    "df = pd.DataFrame()\n",
    "normalize ={}\n",
    "\n",
    "\n",
    "normalize = {\"nom\":[jsonN['hits']['hits'][0]['_source']['designation']],\n",
    "                     \"type\":[jsonN['hits']['hits'][0]['_source']['type']],\n",
    "                     \"id\":[jsonN['hits']['hits'][0]['_id']],\n",
    "                     \"adresse\":[jsonN['hits']['hits'][0]['_source']['pointAdresse']],\n",
    "                     \"AVGWaintingTime\":[jsonN['hits']['hits'][0]['_source']['borneEsirius']['realAvgWaitingTime']],\n",
    "                     \"MAXWaintingTime\":[jsonN['hits']['hits'][0]['_source']['borneEsirius']['realMaxWaitingTime']],\n",
    "                     #\"UPD\":[jsonN['hits']['hits'][0]['_source']['updatedEsiriusDate']]\n",
    "            }\n",
    "for i in range (1,jsonN['hits']['total']-1):\n",
    "    normalize['nom'].append(jsonN['hits']['hits'][i]['_source']['designation'])\n",
    "    normalize['type'].append(jsonN['hits']['hits'][i]['_source']['type'])\n",
    "    normalize['id'].append(jsonN['hits']['hits'][i]['_id'])\n",
    "    normalize['adresse'].append(jsonN['hits']['hits'][i]['_source']['pointAdresse'])\n",
    "    try:\n",
    "        normalize['AVGWaintingTime'].append(jsonN['hits']['hits'][i]['_source']['borneEsirius']['realAvgWaitingTime'])\n",
    "        normalize['MAXWaintingTime'].append(jsonN['hits']['hits'][i]['_source']['borneEsirius']['realMaxWaitingTime'])\n",
    "        #normalize['UPD'].append(jsonN['hits']['hits'][i]['_source']['updatedEsiriusDate'])\n",
    "    except:\n",
    "        print(\"An exception occurred, no borneEsurius for the \",i,\" station\") \n",
    "        normalize['AVGWaintingTime'].append('')\n",
    "        normalize['MAXWaintingTime'].append('')\n",
    "        #normalize['UPD'].append('null')\n",
    "            \n",
    "df = pd.DataFrame(normalize)\n",
    "df['date'] = strftime(\"%Y-%m-%d %H:%M:%S\", time.localtime())\n",
    "\n",
    "\n",
    "\n",
    "try:\n",
    "    data = pd.read_csv('OPTWaitingTime.csv')\n",
    "    print('OPTWaitingTime.csv is here !')\n",
    "    #data[data==\"\"] <- NA\n",
    "    res = False      \n",
    "    for i in range (df['date'].size-1,0,-1):\n",
    "        if data['date'].iloc[i] == strftime(\"%Y-%m-%d %H:%M:%S\", time.localtime()):\n",
    "            print(\"Point break\")\n",
    "            res = True\n",
    "            break\n",
    "    if not res:\n",
    "        df = data.append(df)\n",
    "except ValueError:\n",
    "    print(\"no file OPTWaintingTime.csv\")\n",
    "        \n",
    "df.to_excel(r'OPTWaitingTime.xlsx', index=False)\n",
    "df.to_csv(r'OPTWaitingTime.csv', index=False)\n",
    "```"
   ]
  },
  {
   "cell_type": "markdown",
   "metadata": {},
   "source": [
    "## Heatmap OPT\n",
    "\n",
    "[lien partie principale](#Représentations-graphiques)"
   ]
  },
  {
   "cell_type": "markdown",
   "metadata": {},
   "source": [
    "![](Images/heatmapOPT1.png)\n",
    "![](Images/heatmapOPT2.png)\n"
   ]
  },
  {
   "cell_type": "markdown",
   "metadata": {},
   "source": [
    "Bien entendu toutes ces moyennes sont plutôt bien représentative, mais tout de même à prendre à la légère et observer la médiane ainsi que l'écart type.\n",
    "Grâce à ce schéma, on observe très clairement quelles sont les agences les plus visitées et sur quels créneaux horaires.\n",
    "Cela nous permet de voir aussi quelles agences sont ouvertes au publique et celles qui ne le sont pas.\n",
    "A contrario, la médiane nous montre aussi qu'à certaines horaires, il peut y avoir beaucoup d'attente, comme aucune attente : par exemple MAGENTA A 15H. Mais la médiane nous montre aussi que nos données ne sont pas faussé par de faux résultats."
   ]
  },
  {
   "cell_type": "markdown",
   "metadata": {},
   "source": [
    "\n",
    "![](Images/heatmapOPTMedian.png)"
   ]
  },
  {
   "cell_type": "markdown",
   "metadata": {
    "collapsed": true
   },
   "source": [
    "Ce schéma suivant nous permet d'observer le temps d'attente moyen en seconde suivant les agences et le jour de la semaine. On y voit un temps d'attente plus long le lundi et mardi pour l'agence de magenta par exemple.\n"
   ]
  },
  {
   "cell_type": "markdown",
   "metadata": {},
   "source": [
    "![](Images/heatmapOPT3.png)\n",
    "![](Images/heatmapOPT4.png)"
   ]
  },
  {
   "cell_type": "markdown",
   "metadata": {},
   "source": [
    "## QR Code Site Web\n",
    "\n",
    "[lien partie principale](#Création-d'une-interface-Web)\n",
    "  \n",
    "![](Images/qr-code.png)"
   ]
  },
  {
   "cell_type": "markdown",
   "metadata": {
    "collapsed": true
   },
   "source": [
    "## ScreenShots Application Mobile\n",
    "  \n",
    "\n",
    "[lien partie principale](#Création-d'une-application-Mobile)\n",
    "\n",
    "![](Images/app/Screenshot_2019-12-12-07-58-12-084_com.example.apirequest.jpg)  \n",
    "  \n",
    "\n",
    "![](Images/app/Screenshot_2019-12-12-07-58-20-908_com.example.apirequest.jpg)\n",
    "  \n",
    "\n",
    "![](Images/app/Screenshot_2019-12-12-07-58-39-371_com.example.apirequest.jpg)\n",
    "  \n",
    "\n",
    "![](Images/app/Screenshot_2019-12-12-07-58-59-142_com.example.apirequest.jpg)\n",
    "  \n"
   ]
  },
  {
   "cell_type": "markdown",
   "metadata": {
    "collapsed": true
   },
   "source": [
    "#### Télécharger l'app\n",
    "\n",
    "  \n",
    "![](Images/app/qr-code(30).png)"
   ]
  }
 ],
 "metadata": {
  "kernelspec": {
   "display_name": "Python 3",
   "language": "python",
   "name": "python3"
  },
  "language_info": {
   "codemirror_mode": {
    "name": "ipython",
    "version": 3
   },
   "file_extension": ".py",
   "mimetype": "text/x-python",
   "name": "python",
   "nbconvert_exporter": "python",
   "pygments_lexer": "ipython3",
   "version": "3.7.4"
  }
 },
 "nbformat": 4,
 "nbformat_minor": 2
}
